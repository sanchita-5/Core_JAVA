{
  "nbformat": 4,
  "nbformat_minor": 0,
  "metadata": {
    "colab": {
      "provenance": [],
      "authorship_tag": "ABX9TyP19xFnm5cCMy8ugC2C4Ebn",
      "include_colab_link": true
    },
    "kernelspec": {
      "name": "python3",
      "display_name": "Python 3"
    },
    "language_info": {
      "name": "python"
    }
  },
  "cells": [
    {
      "cell_type": "markdown",
      "metadata": {
        "id": "view-in-github",
        "colab_type": "text"
      },
      "source": [
        "<a href=\"https://colab.research.google.com/github/sanchita-5/Core_JAVA/blob/main/Untitled0.ipynb\" target=\"_parent\"><img src=\"https://colab.research.google.com/assets/colab-badge.svg\" alt=\"Open In Colab\"/></a>"
      ]
    },
    {
      "cell_type": "code",
      "source": [
        "import numpy as np"
      ],
      "metadata": {
        "id": "v1u13_5P5mbS"
      },
      "execution_count": 1,
      "outputs": []
    },
    {
      "cell_type": "code",
      "execution_count": 2,
      "metadata": {
        "colab": {
          "base_uri": "https://localhost:8080/"
        },
        "id": "xSDmKydX5dX6",
        "outputId": "49d2341c-1d24-4101-88bb-d0f221750eff"
      },
      "outputs": [
        {
          "output_type": "stream",
          "name": "stdout",
          "text": [
            "Array from list: [1 2 3 4 5]\n"
          ]
        }
      ],
      "source": [
        "# Creating a NumPy array from a Python list\n",
        "list_data = [1, 2, 3, 4, 5]\n",
        "array_from_list = np.array(list_data) # Converts list to ndarray\n",
        "print(\"Array from list:\", array_from_list)"
      ]
    },
    {
      "cell_type": "code",
      "source": [
        "# Creating a 1D array\n",
        "array_1d_= np.array([10, 20, 30])\n",
        "print(\"1D Array\",array_1d_)"
      ],
      "metadata": {
        "colab": {
          "base_uri": "https://localhost:8080/"
        },
        "id": "QDNmXJEo655t",
        "outputId": "67153b35-a858-4495-8ecc-72edef542c6d"
      },
      "execution_count": 7,
      "outputs": [
        {
          "output_type": "stream",
          "name": "stdout",
          "text": [
            "1D Array [10 20 30]\n"
          ]
        }
      ]
    },
    {
      "cell_type": "code",
      "source": [
        "# Creating a 2D array(matrix-like)\n",
        "array_2d = np.array([[1, 2, 3], [4, 5, 6]]) # 2 rows, 3 columns\n",
        "print(\"2D Array:\\n\", array_2d)"
      ],
      "metadata": {
        "colab": {
          "base_uri": "https://localhost:8080/"
        },
        "id": "wp2BKCxI6luH",
        "outputId": "4991732d-70d7-4d9f-b522-86bd9b5a456b"
      },
      "execution_count": 9,
      "outputs": [
        {
          "output_type": "stream",
          "name": "stdout",
          "text": [
            "2D Array:\n",
            " [[1 2 3]\n",
            " [4 5 6]]\n"
          ]
        }
      ]
    },
    {
      "cell_type": "code",
      "source": [
        "# Create evenly spaced integers with arange(like Python range)\n",
        "array_range = np.arange(0, 10, 2) # from 0 to 8 with step size of 2\n",
        "print(\"Range Array:\",array_range)"
      ],
      "metadata": {
        "colab": {
          "base_uri": "https://localhost:8080/"
        },
        "id": "b3qw54818KGC",
        "outputId": "54a7195f-0857-435f-c9f5-b9b19112c02a"
      },
      "execution_count": 10,
      "outputs": [
        {
          "output_type": "stream",
          "name": "stdout",
          "text": [
            "Range Array: [0 2 4 6 8]\n"
          ]
        }
      ]
    },
    {
      "cell_type": "code",
      "source": [
        "# Create evenly spaced floats using linspace\n",
        "array_linspace = np.linspace(0, 1, 5)\n",
        "# 5 values from 0 to 1 (inclusive)\n",
        "print(\"Linspace array\", array_linspace)"
      ],
      "metadata": {
        "colab": {
          "base_uri": "https://localhost:8080/"
        },
        "id": "0fYJoUOX9DpK",
        "outputId": "ba929f29-7732-4d2e-cb80-dbc498790b8e"
      },
      "execution_count": 13,
      "outputs": [
        {
          "output_type": "stream",
          "name": "stdout",
          "text": [
            "Linspace array [0.   0.25 0.5  0.75 1.  ]\n"
          ]
        }
      ]
    },
    {
      "cell_type": "code",
      "source": [
        "# Create a 2x3 array of all zeros\n",
        "zeros_array = np.zeros((2,3))\n",
        "print(\"Zeros Array\", zeros_array)"
      ],
      "metadata": {
        "colab": {
          "base_uri": "https://localhost:8080/"
        },
        "id": "b-0BdgAp9duB",
        "outputId": "4d946251-9c3c-45bf-b9fb-3e9de968d2ee"
      },
      "execution_count": 12,
      "outputs": [
        {
          "output_type": "stream",
          "name": "stdout",
          "text": [
            "Zeros Array [[0. 0. 0.]\n",
            " [0. 0. 0.]]\n"
          ]
        }
      ]
    },
    {
      "cell_type": "code",
      "source": [
        "# Create 3x2 array of all ones\n",
        "ones_array = np.ones((3, 2))\n",
        "print(\"Ones Array:\\n\", ones_array)"
      ],
      "metadata": {
        "colab": {
          "base_uri": "https://localhost:8080/"
        },
        "id": "FkORGd6z951o",
        "outputId": "5f09b8c2-9bd2-4079-f457-6fe3160cb34f"
      },
      "execution_count": 14,
      "outputs": [
        {
          "output_type": "stream",
          "name": "stdout",
          "text": [
            "Ones Array:\n",
            " [[1. 1.]\n",
            " [1. 1.]\n",
            " [1. 1.]]\n"
          ]
        }
      ]
    },
    {
      "cell_type": "code",
      "source": [
        "# Create a 2x2 array filled with value 7\n",
        "full_array = np.full((2,2),7)\n",
        "print(\"Full Array:\\n\", full_array)"
      ],
      "metadata": {
        "colab": {
          "base_uri": "https://localhost:8080/"
        },
        "id": "f-jc839K-hsu",
        "outputId": "c3809ca6-7b04-4daf-a507-6b8ebcd3caa9"
      },
      "execution_count": 15,
      "outputs": [
        {
          "output_type": "stream",
          "name": "stdout",
          "text": [
            "Full Array:\n",
            " [[7 7]\n",
            " [7 7]]\n"
          ]
        }
      ]
    },
    {
      "cell_type": "code",
      "source": [
        "# Define a 2D array(2 rows, 3 columns)\n",
        "sample_array = np.array([[1, 2, 3], [4, 5, 6]])\n",
        "print(\"Sample Array:\\n\", sample_array)\n",
        "\n",
        "# Shape: tuple of(rows, columns)\n",
        "print(\"Shape:\", sample_array.shape)\n",
        "\n",
        "# ndim: number of dimensions(axes.1D, 2D, 3D)\n",
        "print(\"Number of Dimenssion:\", sample_array.ndim)\n",
        "\n",
        "#dtype\n",
        "print(\"Datatype:\", sample_array.dtype)\n",
        "\n",
        "#size\n",
        "print(\"Total Elements:\", sample_array.size)\n"
      ],
      "metadata": {
        "colab": {
          "base_uri": "https://localhost:8080/"
        },
        "id": "lvSXntsA-9ZA",
        "outputId": "d97cfa9b-c6b1-4773-b339-f603f9160023"
      },
      "execution_count": 18,
      "outputs": [
        {
          "output_type": "stream",
          "name": "stdout",
          "text": [
            "Sample Array:\n",
            " [[1 2 3]\n",
            " [4 5 6]]\n",
            "Shape: (2, 3)\n",
            "Number of Dimenssion: 2\n",
            "Datatype: int64\n",
            "Total Elements: 6\n"
          ]
        }
      ]
    },
    {
      "cell_type": "code",
      "source": [
        "# Each row = a product; each column = a month(Jan to Feb )\n",
        "sales_data = np.array([[120,220,130], [200,300,400], [240,440,500]])\n",
        "print(\"Sales_Data:\\n\", sales_data)"
      ],
      "metadata": {
        "colab": {
          "base_uri": "https://localhost:8080/"
        },
        "id": "hOpwO0LpABmY",
        "outputId": "dd4fbcb3-c25e-4942-a515-fd4618d240c4"
      },
      "execution_count": 21,
      "outputs": [
        {
          "output_type": "stream",
          "name": "stdout",
          "text": [
            "Sales_Data:\n",
            " [[120 220 130]\n",
            " [200 300 400]\n",
            " [240 440 500]]\n"
          ]
        }
      ]
    },
    {
      "cell_type": "code",
      "source": [
        "# Element at row 0, column 1 (Product A in Feb)\n",
        "print(\"Element at [0,1]:\", sales_data[0, 1])\n",
        "\n",
        "# Entire first row (Product A)\n",
        "print(\"First row:\", sales_data[0])\n",
        "\n",
        "# Last column (March for all products)\n",
        "print(\"Last column:\", sales_data[:, -1])\n",
        "\n",
        "# Subarray: First 2 rows and first 2 columns\n",
        "print(\"Block (first 2 rows, first 2 columns):\\n\", sales_data[:2, :2])\n",
        "\n",
        "# Reverse the order of rows (Products C, B, A)\n",
        "print(\"Reversed Rows:\\n\", sales_data[::-1])\n",
        "\n",
        "# Every other column (Jan and Mar)\n",
        "print(\"Every other column:\\n\", sales_data[:-1, ::-1])\n"
      ],
      "metadata": {
        "colab": {
          "base_uri": "https://localhost:8080/"
        },
        "id": "9otdbtI7CYpt",
        "outputId": "a982be75-b4f7-4726-ef0c-6996cdb9ab82"
      },
      "execution_count": 27,
      "outputs": [
        {
          "output_type": "stream",
          "name": "stdout",
          "text": [
            "Element at [0,1]: 220\n",
            "First row: [120 220 130]\n",
            "Last column: [130 400 500]\n",
            "Block (first 2 rows, first 2 columns):\n",
            " [[120 220]\n",
            " [200 300]]\n",
            "Reversed Rows:\n",
            " [[240 440 500]\n",
            " [200 300 400]\n",
            " [120 220 130]]\n",
            "Every other column:\n",
            " [[130 220 120]\n",
            " [400 300 200]]\n"
          ]
        }
      ]
    },
    {
      "cell_type": "code",
      "source": [
        "print(sales_data[-1: -3: -1])"
      ],
      "metadata": {
        "colab": {
          "base_uri": "https://localhost:8080/"
        },
        "id": "__Eus0OXD7qw",
        "outputId": "7a21e1c2-bf27-43c6-80e0-17b30768f8fa"
      },
      "execution_count": 28,
      "outputs": [
        {
          "output_type": "stream",
          "name": "stdout",
          "text": [
            "[[240 440 500]\n",
            " [200 300 400]]\n"
          ]
        }
      ]
    },
    {
      "cell_type": "code",
      "source": [
        "print(sales_data[-1: -3])"
      ],
      "metadata": {
        "colab": {
          "base_uri": "https://localhost:8080/"
        },
        "id": "Fgb03T2aHIOL",
        "outputId": "3ff0b4b6-5246-42c4-db29-b4b43909a460"
      },
      "execution_count": 29,
      "outputs": [
        {
          "output_type": "stream",
          "name": "stdout",
          "text": [
            "[]\n"
          ]
        }
      ]
    },
    {
      "cell_type": "code",
      "source": [
        "# Last row\n",
        "print(\"Last row:\", sales_data[-1:, ])"
      ],
      "metadata": {
        "colab": {
          "base_uri": "https://localhost:8080/"
        },
        "id": "IYnq3l1gHLPt",
        "outputId": "8d2a82c1-1ba7-40ae-ed30-720f1a046c27"
      },
      "execution_count": 30,
      "outputs": [
        {
          "output_type": "stream",
          "name": "stdout",
          "text": [
            "Last row: [[240 440 500]]\n"
          ]
        }
      ]
    },
    {
      "cell_type": "code",
      "source": [
        "print(\"Second Last row:\", sales_data[-2])"
      ],
      "metadata": {
        "colab": {
          "base_uri": "https://localhost:8080/"
        },
        "id": "pC6NeNYQIdLA",
        "outputId": "79eacf78-04e3-4fd4-aaba-fef56a1d070b"
      },
      "execution_count": 33,
      "outputs": [
        {
          "output_type": "stream",
          "name": "stdout",
          "text": [
            "Second Last row: [200 300 400]\n"
          ]
        }
      ]
    },
    {
      "cell_type": "code",
      "source": [
        "time_series = np.array([[1, 2, 3, 4], [5, 6, 7, 8],[9, 10, 11, 12]])\n",
        "print(\"time_square:\\n\", time_series)\n",
        "\n",
        "\n",
        "\n"
      ],
      "metadata": {
        "colab": {
          "base_uri": "https://localhost:8080/"
        },
        "id": "F76ILzCNIpCd",
        "outputId": "55e5c0cd-9521-48ed-e0b5-b60717357209"
      },
      "execution_count": 37,
      "outputs": [
        {
          "output_type": "stream",
          "name": "stdout",
          "text": [
            "time_square:\n",
            " [[ 1  2  3  4]\n",
            " [ 5  6  7  8]\n",
            " [ 9 10 11 12]]\n"
          ]
        }
      ]
    },
    {
      "cell_type": "code",
      "source": [
        "print(\"First column:\\n\", time_series[:, 0])"
      ],
      "metadata": {
        "colab": {
          "base_uri": "https://localhost:8080/"
        },
        "id": "VyJNJV1jKXxJ",
        "outputId": "f198a312-e32f-49be-e478-9ca9e938ec71"
      },
      "execution_count": 46,
      "outputs": [
        {
          "output_type": "stream",
          "name": "stdout",
          "text": [
            "First column:\n",
            " [1 5 9]\n"
          ]
        }
      ]
    },
    {
      "cell_type": "code",
      "source": [
        "print(\"Last two column:\\n\", time_series[:,2:])"
      ],
      "metadata": {
        "colab": {
          "base_uri": "https://localhost:8080/"
        },
        "id": "eElGAsxlK0B1",
        "outputId": "0e263db8-3ab0-46b0-fe5f-710865000882"
      },
      "execution_count": 43,
      "outputs": [
        {
          "output_type": "stream",
          "name": "stdout",
          "text": [
            "Last two column:\n",
            " [[ 3  4]\n",
            " [ 7  8]\n",
            " [11 12]]\n"
          ]
        }
      ]
    },
    {
      "cell_type": "code",
      "source": [
        "# Create a 3x4 array with values 1-12\n",
        "time_series = np.arange(1, 13).reshape(3, 4)\n",
        "print(\"Time Series:\\n\", time_series)"
      ],
      "metadata": {
        "colab": {
          "base_uri": "https://localhost:8080/"
        },
        "id": "l8FTD7IuK9Ez",
        "outputId": "30f73404-9c3c-4289-c5ff-954a47b012a4"
      },
      "execution_count": 47,
      "outputs": [
        {
          "output_type": "stream",
          "name": "stdout",
          "text": [
            "Time Series:\n",
            " [[ 1  2  3  4]\n",
            " [ 5  6  7  8]\n",
            " [ 9 10 11 12]]\n"
          ]
        }
      ]
    },
    {
      "cell_type": "code",
      "source": [
        "# Create a 3x4 array with values 1-12\n",
        "time_seriess = np.arange(1, 13)\n",
        "print(\"Time Series:\\n\", time_seriess)"
      ],
      "metadata": {
        "colab": {
          "base_uri": "https://localhost:8080/"
        },
        "id": "IOP_4wngMMRc",
        "outputId": "aaf0b1a3-d834-406f-83ac-bc555adce5cf"
      },
      "execution_count": 48,
      "outputs": [
        {
          "output_type": "stream",
          "name": "stdout",
          "text": [
            "Time Series:\n",
            " [ 1  2  3  4  5  6  7  8  9 10 11 12]\n"
          ]
        }
      ]
    },
    {
      "cell_type": "code",
      "source": [
        "# Define two simple arrays of the same shape\n",
        "arr1 = np.array([10, 20, 30, 40])\n",
        "arr2 = np.array([1, 2, 3, 4])\n",
        "\n",
        "# Perform basic arithmetic operations\n",
        "print(\"Addition:\", arr1 + arr2)           # [11 22 33 44]\n",
        "print(\"Subtraction:\", arr1 - arr2)        # [ 9 18 27 36]\n",
        "print(\"Multiplication:\", arr1 * arr2)     # [ 10  40  90 160]\n",
        "print(\"Division:\", arr1 / arr2)           # [10. 10. 10. 10.]\n",
        "\n",
        "# Array and scalar operation\n",
        "print(\"Add 100 to arr1:\", arr1 + 100)     # [110 120 130 140]"
      ],
      "metadata": {
        "colab": {
          "base_uri": "https://localhost:8080/"
        },
        "id": "aA5GofpxMlb_",
        "outputId": "caa5eae5-ec08-4065-9968-a858af7ff8a2"
      },
      "execution_count": 49,
      "outputs": [
        {
          "output_type": "stream",
          "name": "stdout",
          "text": [
            "Addition: [11 22 33 44]\n",
            "Subtraction: [ 9 18 27 36]\n",
            "Multiplication: [ 10  40  90 160]\n",
            "Division: [10. 10. 10. 10.]\n",
            "Add 100 to arr1: [110 120 130 140]\n"
          ]
        }
      ]
    },
    {
      "cell_type": "code",
      "source": [
        "# 2D_array example\n",
        "matrix = np.array([\n",
        "    [5, 10, 15],\n",
        "    [20, 25, 30]\n",
        "])\n",
        "\n",
        "# Full-array aggregations\n",
        "print(\"Total Sum:\", np.sum(matrix))\n",
        "print(\"Mean Value:\", np.mean(matrix))\n",
        "print(\"Standard Deviation:\", np.std(matrix))\n",
        "\n",
        "# Axis-wise aggregations\n",
        "print(\"Sum by column (axis=0):\", np.sum(matrix, axis=0))\n",
        "print(\"Sum by row (axis=0):\", np.sum(matrix, axis=1))\n",
        "print(\"Mean by row (axis=1):\", np.mean(matrix, axis=1))"
      ],
      "metadata": {
        "colab": {
          "base_uri": "https://localhost:8080/"
        },
        "id": "CP1HgNM-QiYH",
        "outputId": "eca947f2-5544-449a-f115-f00209613727"
      },
      "execution_count": 53,
      "outputs": [
        {
          "output_type": "stream",
          "name": "stdout",
          "text": [
            "Total Sum: 105\n",
            "Mean Value: 17.5\n",
            "Standard Deviation: 8.539125638299666\n",
            "Sum by column (axis=0): [25 35 45]\n",
            "Sum by row (axis=0): [30 75]\n",
            "Mean by row (axis=1): [10. 25.]\n"
          ]
        }
      ]
    },
    {
      "cell_type": "code",
      "source": [
        "# Boolean Masking and Filtering\n",
        "\n",
        "scores = np.array([60, 75, 85, 90, 45])\n",
        "\n",
        "# Create a boolean mask for scores >= 70\n",
        "pass_mask = scores >= 70\n",
        "print(\"Pass mask:\", pass_mask)\n",
        "\n",
        "# Filter values using the mask\n",
        "print(\"Passing scores:\", scores[pass_mask])\n",
        "\n",
        "# Combine conditions: select scores between 70 and 90 (inclusive)\n",
        "print(\"Scores between 70 and 90:\", scores[(scores >= 70) & (scores <= 90)])"
      ],
      "metadata": {
        "colab": {
          "base_uri": "https://localhost:8080/"
        },
        "id": "NWMbTzwASK2i",
        "outputId": "19991fd5-0b91-49d1-ac34-4879b4c1311a"
      },
      "execution_count": 55,
      "outputs": [
        {
          "output_type": "stream",
          "name": "stdout",
          "text": [
            "Pass mask: [False  True  True  True False]\n",
            "Passing scores: [75 85 90]\n",
            "Scores between 70 and 90: [75 85 90]\n"
          ]
        }
      ]
    },
    {
      "cell_type": "code",
      "source": [
        "# Conditional Logic with np.where()\n",
        "# Use np.where to assign labels\n",
        "labels = np.where(scores >= 70, \"Pass\", \"Fail\")\n",
        "print(\"Labels for scores:\", labels)"
      ],
      "metadata": {
        "colab": {
          "base_uri": "https://localhost:8080/"
        },
        "id": "7wZMbMouUCq2",
        "outputId": "1aed23e1-6f31-4c20-e1b1-52c01962c9fc"
      },
      "execution_count": 56,
      "outputs": [
        {
          "output_type": "stream",
          "name": "stdout",
          "text": [
            "Labels for scores: ['Fail' 'Pass' 'Pass' 'Pass' 'Fail']\n"
          ]
        }
      ]
    },
    {
      "cell_type": "code",
      "source": [
        "# Create an array with NaN values\n",
        "data_with_nan = np.array([3.0, np.nan, 7.0, np.nan, 5.0])\n",
        "\n",
        "# Detect NaN positions\n",
        "print(\"NaN mask:\", np.isnan(data_with_nan))\n",
        "\n",
        "# Aggregate safely while ignoring NaNs\n",
        "print(\"Mean ignoring NaNs:\", np.nanmean(data_with_nan))\n",
        "\n",
        "# Replace NaNs with 0\n",
        "filled_data = np.nan_to_num(data_with_nan, nan=5.0)\n",
        "print(\"Replaced NaNs with 0:\", filled_data)"
      ],
      "metadata": {
        "colab": {
          "base_uri": "https://localhost:8080/"
        },
        "id": "m-EMooY3V0re",
        "outputId": "7c5f4fdf-2103-4d58-c11c-5c724f42ea9f"
      },
      "execution_count": 58,
      "outputs": [
        {
          "output_type": "stream",
          "name": "stdout",
          "text": [
            "NaN mask: [False  True False  True False]\n",
            "Mean ignoring NaNs: 5.0\n",
            "Replaced NaNs with 0: [3. 5. 7. 5. 5.]\n"
          ]
        }
      ]
    },
    {
      "cell_type": "code",
      "source": [
        "# Create a 1D arraay of 12 elements\n",
        "arr = np.arange(12)\n",
        "print(\"Original array:\", arr)\n",
        "\n",
        "# Reshape into 3x4 (3 rows, 4 columns)\n",
        "reshaped = arr.reshape(3, 4)\n",
        "print(\"Rehaped (3x4):\\n\", reshaped)\n",
        "\n",
        "# Flatten using ravel (view) and flatten (copy)\n",
        "raveled = reshaped.ravel()\n",
        "flattened = reshaped.flatten()\n",
        "\n",
        "print(\"Raveled (1D view):\", raveled)\n",
        "print(\"Flattened (1D copy):\", flattened)"
      ],
      "metadata": {
        "colab": {
          "base_uri": "https://localhost:8080/"
        },
        "id": "BsHvM-8ZZ7sG",
        "outputId": "1f2425a0-33ce-493c-906f-1d2f5fec5cd6"
      },
      "execution_count": 59,
      "outputs": [
        {
          "output_type": "stream",
          "name": "stdout",
          "text": [
            "Original array: [ 0  1  2  3  4  5  6  7  8  9 10 11]\n",
            "Rehaped (3x4):\n",
            " [[ 0  1  2  3]\n",
            " [ 4  5  6  7]\n",
            " [ 8  9 10 11]]\n",
            "Raveled (1D view): [ 0  1  2  3  4  5  6  7  8  9 10 11]\n",
            "Flattened (1D copy): [ 0  1  2  3  4  5  6  7  8  9 10 11]\n"
          ]
        }
      ]
    },
    {
      "cell_type": "code",
      "source": [
        "temps_transposed = matrix.T\n",
        "print(temps_transposed)"
      ],
      "metadata": {
        "colab": {
          "base_uri": "https://localhost:8080/"
        },
        "id": "85AOsL-oXDS6",
        "outputId": "91624fd9-a055-42c1-b405-ce37f6b9e004"
      },
      "execution_count": 60,
      "outputs": [
        {
          "output_type": "stream",
          "name": "stdout",
          "text": [
            "[[ 5 20]\n",
            " [10 25]\n",
            " [15 30]]\n"
          ]
        }
      ]
    },
    {
      "cell_type": "code",
      "source": [
        "row = matrix[0]\n",
        "col = matrix.reshape(-1, 1)\n",
        "print(\"row to col:\\n\",col)"
      ],
      "metadata": {
        "colab": {
          "base_uri": "https://localhost:8080/"
        },
        "id": "wEeEiO7rc1eN",
        "outputId": "610f8137-b027-447c-b73a-be69772339b5"
      },
      "execution_count": 65,
      "outputs": [
        {
          "output_type": "stream",
          "name": "stdout",
          "text": [
            "row to col:\n",
            " [[ 5]\n",
            " [10]\n",
            " [15]\n",
            " [20]\n",
            " [25]\n",
            " [30]]\n"
          ]
        }
      ]
    },
    {
      "cell_type": "code",
      "source": [
        "# Convert back to row\n",
        "row_again = col.reshape(1, -1)\n",
        "print(\"row again:\\n\", row_again)"
      ],
      "metadata": {
        "colab": {
          "base_uri": "https://localhost:8080/"
        },
        "id": "ZtKaW-wOdqYs",
        "outputId": "c6223ef5-42a0-4766-8f26-5e531787e0df"
      },
      "execution_count": 66,
      "outputs": [
        {
          "output_type": "stream",
          "name": "stdout",
          "text": [
            "row again:\n",
            " [[ 5 10 15 20 25 30]]\n"
          ]
        }
      ]
    },
    {
      "cell_type": "code",
      "source": [
        "a = np.array([[1, 2], [3, 4]])\n",
        "b = np.array([[5, 6], [7, 8]])\n",
        "\n",
        "# Horizontal stack (along columns)\n",
        "h_stack = np.hstack((a, b))\n",
        "print(\"Horizontal Stack:\\n\", h_stack)\n",
        "\n",
        "# Vertical stack (along rows)\n",
        "v_stack = np.vstack((a, b))\n",
        "print(\"Vertical Stack:\\n\", v_stack)\n",
        "\n",
        "# Generic concatenate: axis=0 (rows), axis=1 (columns)\n",
        "concat_axis0 = np.concatenate((a, b), axis=0)\n",
        "concat_axis1 = np.concatenate((a, b), axis=1)\n",
        "print(\"Concatenate axis=0:\\n\", concat_axis0)\n",
        "print(\"Concatenate axis=1:\\n\", concat_axis1)"
      ],
      "metadata": {
        "colab": {
          "base_uri": "https://localhost:8080/"
        },
        "id": "D6FKbulreGOD",
        "outputId": "8acba6b2-ee57-4c81-c49c-b0f98b80dd0a"
      },
      "execution_count": 68,
      "outputs": [
        {
          "output_type": "stream",
          "name": "stdout",
          "text": [
            "Horizontal Stack:\n",
            " [[1 2 5 6]\n",
            " [3 4 7 8]]\n",
            "Vertical Stack:\n",
            " [[1 2]\n",
            " [3 4]\n",
            " [5 6]\n",
            " [7 8]]\n",
            "Concatenate axis=0:\n",
            " [[1 2]\n",
            " [3 4]\n",
            " [5 6]\n",
            " [7 8]]\n",
            "Concatenate axis=1:\n",
            " [[1 2 5 6]\n",
            " [3 4 7 8]]\n"
          ]
        }
      ]
    },
    {
      "cell_type": "code",
      "source": [
        "# Create a 2D array\n",
        "arr = np.arange(16).reshape(4, 4)\n",
        "print(\"Original Array:\\n\", arr)\n",
        "\n",
        "# Split vertically into two 2x4 arrays\n",
        "split_vert = np.vsplit(arr, 2)\n",
        "print(\"Vertical Split (2x4 each):\")\n",
        "for s in split_vert:\n",
        "    print(s)\n",
        "\n",
        "# Split horizontally into two 4x2 arrays\n",
        "split_horiz = np.hsplit(arr, 2)\n",
        "print(\"Horizontal Split (4x2 each):\")\n",
        "for s in split_horiz:\n",
        "    print(s)"
      ],
      "metadata": {
        "colab": {
          "base_uri": "https://localhost:8080/"
        },
        "id": "z8PFmZd4fgZy",
        "outputId": "7dfa2f91-9240-44de-a334-4cb12ee99111"
      },
      "execution_count": 71,
      "outputs": [
        {
          "output_type": "stream",
          "name": "stdout",
          "text": [
            "Original Array:\n",
            " [[ 0  1  2  3]\n",
            " [ 4  5  6  7]\n",
            " [ 8  9 10 11]\n",
            " [12 13 14 15]]\n",
            "Vertical Split (2x4 each):\n",
            "[[0 1 2 3]\n",
            " [4 5 6 7]]\n",
            "[[ 8  9 10 11]\n",
            " [12 13 14 15]]\n",
            "Horizontal Split (4x2 each):\n",
            "[[ 0  1]\n",
            " [ 4  5]\n",
            " [ 8  9]\n",
            " [12 13]]\n",
            "[[ 2  3]\n",
            " [ 6  7]\n",
            " [10 11]\n",
            " [14 15]]\n"
          ]
        }
      ]
    },
    {
      "cell_type": "code",
      "source": [
        "arr = np.array([\n",
        "    [100, 101, 102],\n",
        "    [110, 111, 112],\n",
        "    [120, 121, 122],\n",
        "    [130, 131, 132]\n",
        "])\n",
        "\n",
        "# Select rows 0, 2 and 3\n",
        "selected_rows = arr[[0, 2, 3]]\n",
        "print(\"Selected rows 0, 2, 3:\\n\", selected_rows)\n",
        "\n",
        "# Reorder columns\n",
        "reordered_cols = arr[:, [2, 0, 1]]\n",
        "print(\"Reordered columns (2, 0, 1):\\n\", reordered_cols)"
      ],
      "metadata": {
        "colab": {
          "base_uri": "https://localhost:8080/"
        },
        "id": "maylgX31hdbl",
        "outputId": "eab8b86a-727e-4dd9-a15d-accabd47a222"
      },
      "execution_count": 72,
      "outputs": [
        {
          "output_type": "stream",
          "name": "stdout",
          "text": [
            "Selected rows 0, 2, 3:\n",
            " [[100 101 102]\n",
            " [120 121 122]\n",
            " [130 131 132]]\n",
            "Reordered columns (2, 0, 1):\n",
            " [[102 100 101]\n",
            " [112 110 111]\n",
            " [122 120 121]\n",
            " [132 130 131]]\n"
          ]
        }
      ]
    },
    {
      "cell_type": "code",
      "source": [
        "data = np.array([45, 12, 89, 33])\n",
        "\n",
        "# Sorted values\n",
        "sorted_data = np.sort(data)\n",
        "print(\"Sorted Data:\", sorted_data)\n",
        "\n",
        "# Indices that would sort the array\n",
        "sort_order = np.argsort(data)\n",
        "print(\"Sort Order Indices:\", sort_order)\n",
        "\n",
        "# Use sort_order to reorder the array manually\n",
        "print(\"Data sorted using indices:\", data[sort_order])"
      ],
      "metadata": {
        "colab": {
          "base_uri": "https://localhost:8080/"
        },
        "id": "yFQbJfqejaLo",
        "outputId": "0b92b6af-b898-48ce-8129-06dd5c8fbe57"
      },
      "execution_count": 73,
      "outputs": [
        {
          "output_type": "stream",
          "name": "stdout",
          "text": [
            "Sorted Data: [12 33 45 89]\n",
            "Sort Order Indices: [1 3 0 2]\n",
            "Data sorted using indices: [12 33 45 89]\n"
          ]
        }
      ]
    },
    {
      "cell_type": "code",
      "source": [],
      "metadata": {
        "id": "eU9bfCt0lUPb"
      },
      "execution_count": null,
      "outputs": []
    }
  ]
}